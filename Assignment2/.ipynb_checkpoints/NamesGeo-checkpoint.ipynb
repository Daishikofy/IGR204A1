{
 "cells": [
  {
   "cell_type": "markdown",
   "id": "b2a8005f",
   "metadata": {},
   "source": [
    "# Baby Names: Visualization 2"
   ]
  },
  {
   "cell_type": "markdown",
   "id": "6511b852",
   "metadata": {},
   "source": [
    "In this notebook we present two maps to answer task two of the Baby Names mini project.\n",
    "The maps are preceded by big bold markdow blocks. Their strengths and weaknesses are discusses at the bottom of the notebook."
   ]
  },
  {
   "cell_type": "code",
   "execution_count": 1,
   "id": "724549d6",
   "metadata": {},
   "outputs": [],
   "source": [
    "import altair as alt\n",
    "import pandas as pd\n",
    "import geopandas as gpd # Requires geopandas -- e.g.: conda install -c conda-forge geopandas\n",
    "alt.data_transformers.enable('json') # Let Altair/Vega-Lite work with large data sets\n",
    "\n",
    "import warnings\n",
    "warnings.simplefilter(action='ignore', category=FutureWarning)\n",
    "\n",
    "pass"
   ]
  },
  {
   "cell_type": "markdown",
   "id": "556e037d",
   "metadata": {},
   "source": [
    "#### Reading our names data\n",
    "\n",
    "We strip out data points for rare names or when the département is missing.\n",
    "We also ignore data from Outre-Mer départements because we don't have geoshapes for those."
   ]
  },
  {
   "cell_type": "code",
   "execution_count": 2,
   "id": "35a516f5",
   "metadata": {},
   "outputs": [],
   "source": [
    "names = pd.read_csv(\"dpt2020.csv\", sep=\";\").rename(columns={\"preusuel\": \"prenom\", \"annais\": \"annees\"})\n",
    "names.drop(names[names.prenom == '_PRENOMS_RARES'].index, inplace=True)\n",
    "names.drop(names[names.dpt == 'XX'].index, inplace=True)\n",
    "names.drop(names[names.dpt >= '97'].index, inplace=True)"
   ]
  },
  {
   "cell_type": "code",
   "execution_count": 3,
   "id": "affc6d43",
   "metadata": {},
   "outputs": [],
   "source": [
    "#names.sample(5)"
   ]
  },
  {
   "cell_type": "markdown",
   "id": "c6fb541c",
   "metadata": {},
   "source": [
    "#### Loading map data\n",
    "\n",
    "The map data we use come from the [INSEE] and [IGN] and were processed into the `geojson` format by [Grégoire David].  Here's the [github] repository.\n",
    "\n",
    "In this example, we'll work with the simplified departments tiles for the Hexagon, but that repository contains higher-resolution versions, the DOM-TOM, and more.\n",
    "\n",
    "[Grégoire David]: https://gregoiredavid.fr\n",
    "[INSEE]: http://www.insee.fr/fr/methodes/nomenclatures/cog/telechargement.asp\n",
    "[IGN]: https://geoservices.ign.fr/adminexpress\n",
    "[github]: https://github.com/gregoiredavid/france-geojson/"
   ]
  },
  {
   "cell_type": "code",
   "execution_count": 4,
   "id": "31810331",
   "metadata": {},
   "outputs": [],
   "source": [
    "depts = gpd.read_file('departements-version-simplifiee.geojson')"
   ]
  },
  {
   "cell_type": "code",
   "execution_count": 5,
   "id": "47aded21",
   "metadata": {},
   "outputs": [],
   "source": [
    "#depts[25:31]"
   ]
  },
  {
   "cell_type": "markdown",
   "id": "462a0ef3",
   "metadata": {},
   "source": [
    "Merge départements 2A and 2B for conveniency"
   ]
  },
  {
   "cell_type": "code",
   "execution_count": 6,
   "id": "3ad54493",
   "metadata": {},
   "outputs": [],
   "source": [
    "for i,line in depts.iterrows():\n",
    "    if line.code == \"2A\":\n",
    "        i2A = i\n",
    "        geom2A = line.geometry\n",
    "    elif line.code == \"2B\":\n",
    "        i2B = i\n",
    "        geom2B = line.geometry\n",
    "depts = depts.drop([i2A,i2B])\n",
    "\n",
    "new_row = {'code':'20', 'nom':'Corse', 'geometry':geom2A.union(geom2B)}\n",
    "depts = depts.append(new_row, ignore_index=True)"
   ]
  },
  {
   "cell_type": "code",
   "execution_count": 7,
   "id": "9ffb6143",
   "metadata": {},
   "outputs": [],
   "source": [
    "#depts"
   ]
  },
  {
   "cell_type": "code",
   "execution_count": 8,
   "id": "d53a195f",
   "metadata": {},
   "outputs": [],
   "source": [
    "names = depts.merge(names, how='right', left_on='code', right_on='dpt')"
   ]
  },
  {
   "cell_type": "code",
   "execution_count": 9,
   "id": "63fcdd36",
   "metadata": {},
   "outputs": [],
   "source": [
    "#names.sample(5)"
   ]
  },
  {
   "cell_type": "code",
   "execution_count": 10,
   "id": "88d5c601",
   "metadata": {},
   "outputs": [],
   "source": [
    "grouped = names.groupby(['dpt', 'prenom', 'sexe'], as_index=False).sum()\n",
    "grouped = depts.merge(grouped, how='right', left_on='code', right_on='dpt') # Add geometry data back in\n",
    "#grouped[34130:34563]"
   ]
  },
  {
   "cell_type": "code",
   "execution_count": 11,
   "id": "c6661be4",
   "metadata": {
    "scrolled": true
   },
   "outputs": [],
   "source": [
    "def absolute_count_chart(name):\n",
    "    name = name.upper()\n",
    "    subset = grouped[grouped.prenom == name]\n",
    "    if len(subset) == 0:\n",
    "        return \"This name was not found anywhere.\"\n",
    "    return alt.Chart(subset).mark_geoshape(stroke='white').encode(\n",
    "        tooltip=['nom', 'code', 'nombre'],\n",
    "        color='nombre',\n",
    "    ).properties(width=800, height=600)\n",
    "#absolute_count_chart('Thomas')"
   ]
  },
  {
   "cell_type": "markdown",
   "id": "e78cf9e5",
   "metadata": {},
   "source": [
    "We count the total number of births across all years per each département so that we can get popularity of names as a percentage of births, rather than an absolute number of births "
   ]
  },
  {
   "cell_type": "code",
   "execution_count": 12,
   "id": "91c6000c",
   "metadata": {},
   "outputs": [],
   "source": [
    "births = names.groupby(['dpt'], as_index=False).sum().drop(columns=[\"sexe\"]).rename(columns={'nombre': 'tot_births'})\n",
    "#births"
   ]
  },
  {
   "cell_type": "code",
   "execution_count": 13,
   "id": "e61bf491",
   "metadata": {},
   "outputs": [],
   "source": [
    "grouped_with_totals = grouped.merge(births, how='right', left_on='dpt', right_on='dpt') # Add geometry data back in\n",
    "grouped_with_totals['proportion'] = grouped_with_totals.nombre / grouped_with_totals.tot_births\n",
    "#grouped_with_totals"
   ]
  },
  {
   "cell_type": "code",
   "execution_count": 14,
   "id": "d2d02b64",
   "metadata": {},
   "outputs": [],
   "source": [
    "def proportion_chart(_name):\n",
    "    name = _name.upper()\n",
    "    subset = grouped_with_totals[grouped_with_totals.prenom == name]\n",
    "    if len(subset) == 0:\n",
    "        return \"This name was not found anywhere.\"\n",
    "    title = \"Proportion of babies with the name \"+_name+\" from 1900 to 2010 in France départements\"\n",
    "    return alt.Chart(subset).mark_geoshape(stroke='white').encode(\n",
    "        tooltip=['nom', 'code', 'nombre'],\n",
    "        color=alt.Color('proportion', scale=alt.Scale(scheme=\"reds\"))\n",
    "    ).properties(width=800, height=600, title=title).configure_title(fontSize=18)"
   ]
  },
  {
   "cell_type": "markdown",
   "id": "3cc7c38c",
   "metadata": {},
   "source": [
    "## Map 1: Proportion of a name out of all births by département\n",
    "\n",
    "Replace with a name to see where this name is more popular.\n",
    "Here are 4 suggestions of names that give completely different charts: Jean (popular everywhere except near Paris), Nicolas (only popular around Paris), Nolwenn (Breton name, also given elsewhere), Txomin (Basque name, doesn't exist anywhere else)\n",
    "                \n",
    "                   vvvvvv"
   ]
  },
  {
   "cell_type": "code",
   "execution_count": 15,
   "id": "79b35381",
   "metadata": {},
   "outputs": [
    {
     "data": {
      "text/html": [
       "\n",
       "<div id=\"altair-viz-9da3b105b5fe41008a178bb22f24ae26\"></div>\n",
       "<script type=\"text/javascript\">\n",
       "  (function(spec, embedOpt){\n",
       "    let outputDiv = document.currentScript.previousElementSibling;\n",
       "    if (outputDiv.id !== \"altair-viz-9da3b105b5fe41008a178bb22f24ae26\") {\n",
       "      outputDiv = document.getElementById(\"altair-viz-9da3b105b5fe41008a178bb22f24ae26\");\n",
       "    }\n",
       "    const paths = {\n",
       "      \"vega\": \"https://cdn.jsdelivr.net/npm//vega@5?noext\",\n",
       "      \"vega-lib\": \"https://cdn.jsdelivr.net/npm//vega-lib?noext\",\n",
       "      \"vega-lite\": \"https://cdn.jsdelivr.net/npm//vega-lite@4.8.1?noext\",\n",
       "      \"vega-embed\": \"https://cdn.jsdelivr.net/npm//vega-embed@6?noext\",\n",
       "    };\n",
       "\n",
       "    function loadScript(lib) {\n",
       "      return new Promise(function(resolve, reject) {\n",
       "        var s = document.createElement('script');\n",
       "        s.src = paths[lib];\n",
       "        s.async = true;\n",
       "        s.onload = () => resolve(paths[lib]);\n",
       "        s.onerror = () => reject(`Error loading script: ${paths[lib]}`);\n",
       "        document.getElementsByTagName(\"head\")[0].appendChild(s);\n",
       "      });\n",
       "    }\n",
       "\n",
       "    function showError(err) {\n",
       "      outputDiv.innerHTML = `<div class=\"error\" style=\"color:red;\">${err}</div>`;\n",
       "      throw err;\n",
       "    }\n",
       "\n",
       "    function displayChart(vegaEmbed) {\n",
       "      vegaEmbed(outputDiv, spec, embedOpt)\n",
       "        .catch(err => showError(`Javascript Error: ${err.message}<br>This usually means there's a typo in your chart specification. See the javascript console for the full traceback.`));\n",
       "    }\n",
       "\n",
       "    if(typeof define === \"function\" && define.amd) {\n",
       "      requirejs.config({paths});\n",
       "      require([\"vega-embed\"], displayChart, err => showError(`Error loading script: ${err.message}`));\n",
       "    } else if (typeof vegaEmbed === \"function\") {\n",
       "      displayChart(vegaEmbed);\n",
       "    } else {\n",
       "      loadScript(\"vega\")\n",
       "        .then(() => loadScript(\"vega-lite\"))\n",
       "        .then(() => loadScript(\"vega-embed\"))\n",
       "        .catch(showError)\n",
       "        .then(() => displayChart(vegaEmbed));\n",
       "    }\n",
       "  })({\"config\": {\"view\": {\"continuousWidth\": 400, \"continuousHeight\": 300}, \"title\": {\"fontSize\": 18}}, \"data\": {\"url\": \"altair-data-781ec6970a18279fd99650fbd1007394.json\", \"format\": {\"type\": \"json\"}}, \"mark\": {\"type\": \"geoshape\", \"stroke\": \"white\"}, \"encoding\": {\"color\": {\"type\": \"quantitative\", \"field\": \"proportion\", \"scale\": {\"scheme\": \"reds\"}}, \"tooltip\": [{\"type\": \"nominal\", \"field\": \"nom\"}, {\"type\": \"nominal\", \"field\": \"code\"}, {\"type\": \"quantitative\", \"field\": \"nombre\"}]}, \"height\": 600, \"title\": \"Proportion of babies with the name Nolwenn from 1900 to 2010 in France d\\u00e9partements\", \"width\": 800, \"$schema\": \"https://vega.github.io/schema/vega-lite/v4.8.1.json\"}, {\"mode\": \"vega-lite\"});\n",
       "</script>"
      ],
      "text/plain": [
       "alt.Chart(...)"
      ]
     },
     "execution_count": 15,
     "metadata": {},
     "output_type": "execute_result"
    }
   ],
   "source": [
    "proportion_chart('Nolwenn')"
   ]
  },
  {
   "cell_type": "code",
   "execution_count": 16,
   "id": "87b833e2",
   "metadata": {},
   "outputs": [],
   "source": [
    "grouped_france = names.groupby(['prenom', 'sexe'], as_index=False).sum()\n",
    "data_france_male = grouped_france[grouped_france[\"sexe\"] == 1]\n",
    "data_france_female = grouped_france[grouped_france[\"sexe\"] == 2]\n",
    "top_france_male = data_france_male.nlargest(100, 'nombre').drop(columns=[\"sexe\"])\n",
    "top_france_female = data_france_female.nlargest(100, 'nombre').drop(columns=[\"sexe\"])\n",
    "top_france = [top_france_male, top_france_female]"
   ]
  },
  {
   "cell_type": "code",
   "execution_count": 17,
   "id": "f9946a28",
   "metadata": {},
   "outputs": [],
   "source": [
    "#top_france_male"
   ]
  },
  {
   "cell_type": "code",
   "execution_count": 18,
   "id": "180779bc",
   "metadata": {},
   "outputs": [],
   "source": [
    "#top_france_female"
   ]
  },
  {
   "cell_type": "code",
   "execution_count": 19,
   "id": "aeefa7ab",
   "metadata": {},
   "outputs": [],
   "source": [
    "codes = depts.code"
   ]
  },
  {
   "cell_type": "code",
   "execution_count": 20,
   "id": "c32e601e",
   "metadata": {},
   "outputs": [],
   "source": [
    "top_par_departement = {code:[None,None] for code in codes} \n",
    "for code in codes:\n",
    "    departement_data = grouped[grouped[\"code\"] == code].drop(columns=[\"geometry\", \"code\", \"nom\", \"dpt\"])\n",
    "    top_par_departement[code][0] = departement_data[departement_data[\"sexe\"]==1].nlargest(100, 'nombre').drop(columns=[\"sexe\"])\n",
    "    top_par_departement[code][1] = departement_data[departement_data[\"sexe\"]==2].nlargest(100, 'nombre').drop(columns=[\"sexe\"])\n",
    "    codeint = int(code)\n",
    "    top_par_departement[codeint] = top_par_departement[code]"
   ]
  },
  {
   "cell_type": "code",
   "execution_count": 21,
   "id": "66b42426",
   "metadata": {},
   "outputs": [],
   "source": [
    "#top_par_departement[20][0][:5]"
   ]
  },
  {
   "cell_type": "code",
   "execution_count": 22,
   "id": "7057e23a",
   "metadata": {},
   "outputs": [],
   "source": [
    "import numpy as np\n",
    "n = 20\n",
    "def similarity_score_sex(top_A, top_B):\n",
    "    max_th = 2*np.sum(np.array(top_A.nombre[:n])*np.array(top_B.nombre[:n]))\n",
    "    score = 0\n",
    "    for _ in range(2):\n",
    "        for i,prenom in enumerate(np.array(top_A[\"prenom\"][:n])):\n",
    "            if prenom in np.array(top_B[\"prenom\"]):\n",
    "                j = np.array(top_B[\"prenom\"]).tolist().index(prenom)\n",
    "                assert np.array(top_B[\"prenom\"])[j] == prenom\n",
    "                score += np.array(top_A[\"nombre\"])[i] * np.array(top_B[\"nombre\"])[j]\n",
    "        top_A,top_B = top_B,top_A\n",
    "    ans = score/max_th\n",
    "    return ans\n",
    "def similarity_score_between(top_A, top_B):\n",
    "    top_A_male, top_A_female = top_A\n",
    "    top_B_male, top_B_female = top_B\n",
    "    return (similarity_score_sex(top_A_male, top_B_male)+similarity_score_sex(top_A_female, top_B_female))/2"
   ]
  },
  {
   "cell_type": "code",
   "execution_count": 23,
   "id": "d65f22f6",
   "metadata": {},
   "outputs": [],
   "source": [
    "def similarity_two_dpts(dept_code_A, dept_code_B):\n",
    "    return similarity_score_between(top_par_departement[dept_code_A], top_par_departement[dept_code_B])\n",
    "def similarity_with_france(dept_code):\n",
    "    return similarity_score_between(top_par_departement[dept_code], top_france)"
   ]
  },
  {
   "cell_type": "code",
   "execution_count": 24,
   "id": "102c4468",
   "metadata": {},
   "outputs": [],
   "source": [
    "#print(similarity_two_dpts(\"22\", \"29\"))\n",
    "#print(similarity_two_dpts(\"22\", \"75\"))"
   ]
  },
  {
   "cell_type": "code",
   "execution_count": 25,
   "id": "7c018cc0",
   "metadata": {},
   "outputs": [],
   "source": [
    "depts_sim = depts.copy()\n",
    "depts_sim['Similarity'] = 0\n",
    "for i,dataPt in depts_sim.iterrows():\n",
    "    depts_sim.loc[i,'Similarity'] = similarity_with_france(dataPt.code)"
   ]
  },
  {
   "cell_type": "code",
   "execution_count": 26,
   "id": "ded05e74",
   "metadata": {},
   "outputs": [],
   "source": [
    "#depts_sim"
   ]
  },
  {
   "cell_type": "code",
   "execution_count": 27,
   "id": "51d496d3",
   "metadata": {},
   "outputs": [],
   "source": [
    "def similarity_chart(code=None):\n",
    "    try:\n",
    "        assert 1 <= int(code) <= 95\n",
    "        if isinstance(code, int):\n",
    "            code = str(code+100)[1:]\n",
    "        for i,dataPt in depts_sim.iterrows():\n",
    "            depts_sim.loc[i,'Similarity'] = similarity_two_dpts(dataPt.code, code)\n",
    "            if dataPt.code == code:\n",
    "                dptName = dataPt.nom\n",
    "        title = \"Similarity of local name popularity rankings with the ranking in \"+dptName+\" (\"+code+\")\"\n",
    "    except:\n",
    "        for i,dataPt in depts_sim.iterrows():\n",
    "            depts_sim.loc[i,'Similarity'] = similarity_with_france(dataPt.code)\n",
    "        title = \"Similarity of local name popularity rankings with the national ranking\"\n",
    "            \n",
    "    return alt.Chart(depts_sim).mark_geoshape(stroke='white').encode(\n",
    "        tooltip=['nom', 'code', alt.Tooltip('Similarity', title='similarity')],\n",
    "        color=alt.Color('Similarity', scale=alt.Scale(domain=(0,1), scheme=\"darkmulti\"))\n",
    "    ).properties(width=800, height=600, title=title).configure_title(fontSize=18).configure(background='#D9E9F0')"
   ]
  },
  {
   "cell_type": "markdown",
   "id": "914eeda2",
   "metadata": {},
   "source": [
    "# Map 2: Similarity between local and national name leaderboards\n",
    "\n",
    "A similarity index of 1 means that the top 20 men and top 20 women names are the same in the two compared zones. A similarity of 0 means that there is no name in common between the two top 20.\n",
    "\n",
    "Execute *similarity_chart(XY)* to compare all départements with the département XY (between 01 and 95) or just *similarity_chart(\"France\")* to compare local name popularity rankings with the national ranking.\n",
    "\n",
    "                  vv"
   ]
  },
  {
   "cell_type": "code",
   "execution_count": 28,
   "id": "8ca8a80b",
   "metadata": {
    "scrolled": true
   },
   "outputs": [
    {
     "data": {
      "text/html": [
       "\n",
       "<div id=\"altair-viz-f26bfcb864dc4854ba5f4c0b4c802ebc\"></div>\n",
       "<script type=\"text/javascript\">\n",
       "  (function(spec, embedOpt){\n",
       "    let outputDiv = document.currentScript.previousElementSibling;\n",
       "    if (outputDiv.id !== \"altair-viz-f26bfcb864dc4854ba5f4c0b4c802ebc\") {\n",
       "      outputDiv = document.getElementById(\"altair-viz-f26bfcb864dc4854ba5f4c0b4c802ebc\");\n",
       "    }\n",
       "    const paths = {\n",
       "      \"vega\": \"https://cdn.jsdelivr.net/npm//vega@5?noext\",\n",
       "      \"vega-lib\": \"https://cdn.jsdelivr.net/npm//vega-lib?noext\",\n",
       "      \"vega-lite\": \"https://cdn.jsdelivr.net/npm//vega-lite@4.8.1?noext\",\n",
       "      \"vega-embed\": \"https://cdn.jsdelivr.net/npm//vega-embed@6?noext\",\n",
       "    };\n",
       "\n",
       "    function loadScript(lib) {\n",
       "      return new Promise(function(resolve, reject) {\n",
       "        var s = document.createElement('script');\n",
       "        s.src = paths[lib];\n",
       "        s.async = true;\n",
       "        s.onload = () => resolve(paths[lib]);\n",
       "        s.onerror = () => reject(`Error loading script: ${paths[lib]}`);\n",
       "        document.getElementsByTagName(\"head\")[0].appendChild(s);\n",
       "      });\n",
       "    }\n",
       "\n",
       "    function showError(err) {\n",
       "      outputDiv.innerHTML = `<div class=\"error\" style=\"color:red;\">${err}</div>`;\n",
       "      throw err;\n",
       "    }\n",
       "\n",
       "    function displayChart(vegaEmbed) {\n",
       "      vegaEmbed(outputDiv, spec, embedOpt)\n",
       "        .catch(err => showError(`Javascript Error: ${err.message}<br>This usually means there's a typo in your chart specification. See the javascript console for the full traceback.`));\n",
       "    }\n",
       "\n",
       "    if(typeof define === \"function\" && define.amd) {\n",
       "      requirejs.config({paths});\n",
       "      require([\"vega-embed\"], displayChart, err => showError(`Error loading script: ${err.message}`));\n",
       "    } else if (typeof vegaEmbed === \"function\") {\n",
       "      displayChart(vegaEmbed);\n",
       "    } else {\n",
       "      loadScript(\"vega\")\n",
       "        .then(() => loadScript(\"vega-lite\"))\n",
       "        .then(() => loadScript(\"vega-embed\"))\n",
       "        .catch(showError)\n",
       "        .then(() => displayChart(vegaEmbed));\n",
       "    }\n",
       "  })({\"config\": {\"view\": {\"continuousWidth\": 400, \"continuousHeight\": 300}, \"background\": \"#D9E9F0\"}, \"data\": {\"url\": \"altair-data-bf38023af4a8657a87ffbb3f7c6c1dbb.json\", \"format\": {\"type\": \"json\"}}, \"mark\": {\"type\": \"geoshape\", \"stroke\": \"white\"}, \"encoding\": {\"color\": {\"type\": \"quantitative\", \"field\": \"Similarity\", \"scale\": {\"domain\": [0, 1], \"scheme\": \"darkmulti\"}}, \"tooltip\": [{\"type\": \"nominal\", \"field\": \"nom\"}, {\"type\": \"nominal\", \"field\": \"code\"}, {\"type\": \"quantitative\", \"field\": \"Similarity\", \"title\": \"similarity\"}]}, \"height\": 600, \"title\": \"Similarity of local name popularity rankings with the ranking in Paris (75)\", \"width\": 800, \"$schema\": \"https://vega.github.io/schema/vega-lite/v4.8.1.json\"}, {\"mode\": \"vega-lite\"});\n",
       "</script>"
      ],
      "text/plain": [
       "alt.Chart(...)"
      ]
     },
     "execution_count": 28,
     "metadata": {},
     "output_type": "execute_result"
    }
   ],
   "source": [
    "similarity_chart(\"75\")\n",
    "# suggestions: France, 20 (Corse), 22 (in Brittany), 63 (rural), 75 (Paris), 93 (near Paris)"
   ]
  },
  {
   "cell_type": "markdown",
   "id": "869172b5",
   "metadata": {},
   "source": [
    "Oddly enough, the départements that stand out are those with codes 91, 92, 93, 94 and 95"
   ]
  },
  {
   "cell_type": "code",
   "execution_count": 29,
   "id": "04d5d1b9",
   "metadata": {},
   "outputs": [],
   "source": [
    "#top_par_departement[\"33\"][0],top_france[0]"
   ]
  },
  {
   "cell_type": "code",
   "execution_count": 30,
   "id": "69a6d329",
   "metadata": {},
   "outputs": [],
   "source": [
    "#top_par_departement[\"94\"][0],top_france[0]"
   ]
  },
  {
   "cell_type": "markdown",
   "id": "97ac54b6",
   "metadata": {},
   "source": [
    "# Discussion\n",
    "\n",
    "## Map 1\n",
    "\n",
    "### Strengths\n",
    "\n",
    "Querying popular names (Jean, Nicolas...) clearly shows the regional effects of the data: in the most common case, names have a constant popularity outside of Paris, and a different popularity (higher: Nicolas, or lower: Jean) in the greater Paris region.\n",
    "\n",
    "It's also possible to explore the data by inputting rarer names that don't necessarily answer the third question (\"Are popular names generally popular across the whole country?\") but occasionally provide curious results that the user can find interesting.\n",
    "\n",
    "### Weaknesses\n",
    "\n",
    "You have to input several names to get a global idea of the regional differences. If you're unlucky, you might query names with a constant popularity which goes against the expected conclusion that this visualization tries to convey.\n",
    "\n",
    "\n",
    "## Map 2\n",
    "\n",
    "### Strengths\n",
    "\n",
    "There is an immediately notticeable pattern with 2 types of départements. Those who closely follow the national trend, and those who don't follow it *at all*. The latter category is easily spotted: départements 91, 92, 93, 94, 95.\n",
    "\n",
    "### Weaknesses\n",
    "\n",
    "The initial design plan was to include a richer tooltip that would display the top 5 names of the département, for men and women, when you hover over it. Without this, we don't really know which names are making départements 91 to 95 so different. We also don't know what the most popular names shared by départements 01 to 90 are.\n"
   ]
  },
  {
   "cell_type": "code",
   "execution_count": null,
   "id": "fffe604d",
   "metadata": {},
   "outputs": [],
   "source": []
  }
 ],
 "metadata": {
  "kernelspec": {
   "display_name": "Python 3 (ipykernel)",
   "language": "python",
   "name": "python3"
  },
  "language_info": {
   "codemirror_mode": {
    "name": "ipython",
    "version": 3
   },
   "file_extension": ".py",
   "mimetype": "text/x-python",
   "name": "python",
   "nbconvert_exporter": "python",
   "pygments_lexer": "ipython3",
   "version": "3.8.13"
  }
 },
 "nbformat": 4,
 "nbformat_minor": 5
}
